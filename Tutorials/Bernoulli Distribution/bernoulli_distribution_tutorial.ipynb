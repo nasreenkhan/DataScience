{
 "cells": [
  {
   "cell_type": "code",
   "execution_count": 1,
   "metadata": {},
   "outputs": [],
   "source": [
    "#Import required libraries:\n",
    "from scipy.stats import bernoulli\n",
    "import matplotlib.pyplot as plt\n"
   ]
  },
  {
   "cell_type": "code",
   "execution_count": 2,
   "metadata": {},
   "outputs": [],
   "source": [
    "#Define probability of success:\n",
    "p = 0.7"
   ]
  },
  {
   "cell_type": "code",
   "execution_count": 3,
   "metadata": {},
   "outputs": [],
   "source": [
    "#Find the statisticsal values:\n",
    "mean, var, skew, kurt = bernoulli.stats(p, moments='mvsk')"
   ]
  },
  {
   "cell_type": "code",
   "execution_count": 4,
   "metadata": {},
   "outputs": [
    {
     "name": "stdout",
     "output_type": "stream",
     "text": [
      "Mean =  0.7\n"
     ]
    }
   ],
   "source": [
    "#Print mean:\n",
    "print(\"Mean = \",mean)"
   ]
  },
  {
   "cell_type": "code",
   "execution_count": 5,
   "metadata": {},
   "outputs": [
    {
     "name": "stdout",
     "output_type": "stream",
     "text": [
      "Variance =   0.21000000000000002\n"
     ]
    }
   ],
   "source": [
    "#Print variance:\n",
    "print(\"Variance =  \",var)"
   ]
  },
  {
   "cell_type": "code",
   "execution_count": 6,
   "metadata": {},
   "outputs": [
    {
     "name": "stdout",
     "output_type": "stream",
     "text": [
      "Skewness =  -0.8728715609439702\n"
     ]
    }
   ],
   "source": [
    "#Print skewness:\n",
    "print(\"Skewness = \",skew)"
   ]
  },
  {
   "cell_type": "code",
   "execution_count": 7,
   "metadata": {},
   "outputs": [
    {
     "name": "stdout",
     "output_type": "stream",
     "text": [
      "Kurtosis =  -1.2380952380952361\n"
     ]
    }
   ],
   "source": [
    "#Print kurtosis:\n",
    "print(\"Kurtosis = \",kurt)"
   ]
  },
  {
   "cell_type": "code",
   "execution_count": 8,
   "metadata": {},
   "outputs": [
    {
     "name": "stdout",
     "output_type": "stream",
     "text": [
      "Mean =  0.7\n"
     ]
    }
   ],
   "source": [
    "#Get only mean value:\n",
    "mean = bernoulli.mean(p)\n",
    "print(\"Mean = \",mean)"
   ]
  },
  {
   "cell_type": "code",
   "execution_count": 9,
   "metadata": {},
   "outputs": [
    {
     "name": "stdout",
     "output_type": "stream",
     "text": [
      "Median =  1.0\n"
     ]
    }
   ],
   "source": [
    "#Get only median value:\n",
    "median = bernoulli.median(p)\n",
    "print(\"Median = \",median)\n"
   ]
  },
  {
   "cell_type": "code",
   "execution_count": 10,
   "metadata": {},
   "outputs": [
    {
     "name": "stdout",
     "output_type": "stream",
     "text": [
      "Variance =  0.21000000000000002\n"
     ]
    }
   ],
   "source": [
    "#Get only variance value:\n",
    "var = bernoulli.var(p)\n",
    "print(\"Variance = \",var)"
   ]
  },
  {
   "cell_type": "code",
   "execution_count": 11,
   "metadata": {},
   "outputs": [
    {
     "name": "stdout",
     "output_type": "stream",
     "text": [
      "Standard Deviation =  0.45825756949558405\n"
     ]
    }
   ],
   "source": [
    "#Get only standard deviation value:\n",
    "std = bernoulli.std(p)\n",
    "print(\"Standard Deviation = \",std)"
   ]
  },
  {
   "cell_type": "code",
   "execution_count": 12,
   "metadata": {},
   "outputs": [
    {
     "name": "stdout",
     "output_type": "stream",
     "text": [
      "Probability Mass Function =  [0.3 0.7]\n"
     ]
    }
   ],
   "source": [
    "#Get Probability Mass Function(PMF):\n",
    "x = [0,1]\n",
    "p=0.7\n",
    "print(\"Probability Mass Function = \",bernoulli.pmf(x,p))"
   ]
  },
  {
   "cell_type": "code",
   "execution_count": 13,
   "metadata": {},
   "outputs": [
    {
     "data": {
      "text/plain": [
       "<matplotlib.legend.Legend at 0x21d13721b80>"
      ]
     },
     "execution_count": 13,
     "metadata": {},
     "output_type": "execute_result"
    },
    {
     "data": {
      "image/png": "[encoded data removed]",
      "text/plain": [
       "<Figure size 432x288 with 1 Axes>"
      ]
     },
     "metadata": {
      "needs_background": "light"
     },
     "output_type": "display_data"
    }
   ],
   "source": [
    "#Plot the graph for Probability Mass Function(PMF):\n",
    "x = [0,1]\n",
    "p=0.7\n",
    "plt.scatter(x,bernoulli.pmf(x,p),label=\"PMF\")\n",
    "plt.title(\"Probability Mass Function\")\n",
    "plt.xlabel(\"Data Points\")\n",
    "plt.ylabel(\"Probability\")\n",
    "plt.legend()"
   ]
  },
  {
   "cell_type": "code",
   "execution_count": 14,
   "metadata": {},
   "outputs": [
    {
     "name": "stdout",
     "output_type": "stream",
     "text": [
      "Cumulative Density Function =  [0.3 1. ]\n"
     ]
    }
   ],
   "source": [
    "#Get Cumulative Density Function(CDF):\n",
    "x = [0,1]\n",
    "p = 0.7\n",
    "print(\"Cumulative Density Function = \",bernoulli.cdf(x,p))"
   ]
  },
  {
   "cell_type": "code",
   "execution_count": 15,
   "metadata": {},
   "outputs": [
    {
     "data": {
      "text/plain": [
       "<matplotlib.legend.Legend at 0x21d137d93a0>"
      ]
     },
     "execution_count": 15,
     "metadata": {},
     "output_type": "execute_result"
    },
    {
     "data": {
      "image/png": "[encoded data removed]",
      "text/plain": [
       "<Figure size 432x288 with 1 Axes>"
      ]
     },
     "metadata": {
      "needs_background": "light"
     },
     "output_type": "display_data"
    }
   ],
   "source": [
    "#Plot the Cumulative Density Function(CDF):\n",
    "x = [0,1]\n",
    "p = 0.7\n",
    "plt.scatter(x,bernoulli.cdf(x,p),label=\"CDF\")\n",
    "plt.title(\"Cumulative Density Function\")\n",
    "plt.xlabel(\"Data Points\")\n",
    "plt.ylabel(\"Probability\")\n",
    "plt.legend()"
   ]
  },
  {
   "cell_type": "code",
   "execution_count": 16,
   "metadata": {},
   "outputs": [
    {
     "data": {
      "text/plain": [
       "Text(0, 0.5, 'Probability')"
      ]
     },
     "execution_count": 16,
     "metadata": {},
     "output_type": "execute_result"
    },
    {
     "data": {
      "image/png": "[encoded data removed]",
      "text/plain": [
       "<Figure size 432x288 with 1 Axes>"
      ]
     },
     "metadata": {
      "needs_background": "light"
     },
     "output_type": "display_data"
    }
   ],
   "source": [
    "#Plot the bar graph for PMF:\n",
    "x = [0,1]\n",
    "p = 0.7\n",
    "plt.bar(x,bernoulli.pmf(x,p),width=0.1,color=[\"r\",\"b\"])\n",
    "plt.title(\"Probability Mass Function\")\n",
    "plt.xlabel(\"Data Points\")\n",
    "plt.ylabel(\"Probability\")"
   ]
  },
  {
   "cell_type": "code",
   "execution_count": 17,
   "metadata": {},
   "outputs": [
    {
     "data": {
      "text/plain": [
       "Text(0, 0.5, 'Probability')"
      ]
     },
     "execution_count": 17,
     "metadata": {},
     "output_type": "execute_result"
    },
    {
     "data": {
      "image/png": "[encoded data removed]",
      "text/plain": [
       "<Figure size 432x288 with 1 Axes>"
      ]
     },
     "metadata": {
      "needs_background": "light"
     },
     "output_type": "display_data"
    }
   ],
   "source": [
    "#Plot the bar graph for CDF:\n",
    "x = [0,1]\n",
    "p = 0.7\n",
    "plt.bar(x,bernoulli.cdf(x,p),width=0.1,color=[\"r\",\"b\"])\n",
    "plt.title(\"Cumulative Density Function\")\n",
    "plt.xlabel(\"Data Points\")\n",
    "plt.ylabel(\"Probability\")"
   ]
  },
  {
   "cell_type": "code",
   "execution_count": 18,
   "metadata": {},
   "outputs": [
    {
     "name": "stdout",
     "output_type": "stream",
     "text": [
      "[1 1 1 0 1 1 0 1 1 1 1 1 1 1 0 1 0 1 1 1 1 1 1 1 1 1 1 1 1 1 1 1 1 0 1 1 0\n",
      " 1 0 0 0 1 1 1 1 1 1 1 1 1 1 1 1 0 1 0 1 1 1 1 0 1 1 1 1 1 1 0 0 1 0 1 1 1\n",
      " 0 1 0 0 1 0 1 1 1 1 1 1 1 1 0 0 1 1 1 0 0 1 0 0 0 0]\n"
     ]
    }
   ],
   "source": [
    "#Generate Output for Random Bernoulli Events:\n",
    "p = 0.7\n",
    "r = bernoulli.rvs(p, size=100)\n",
    "print(r)"
   ]
  },
  {
   "cell_type": "code",
   "execution_count": null,
   "metadata": {},
   "outputs": [],
   "source": []
  },
  {
   "cell_type": "code",
   "execution_count": null,
   "metadata": {},
   "outputs": [],
   "source": []
  },
  {
   "cell_type": "code",
   "execution_count": null,
   "metadata": {},
   "outputs": [],
   "source": []
  },
  {
   "cell_type": "code",
   "execution_count": null,
   "metadata": {},
   "outputs": [],
   "source": []
  },
  {
   "cell_type": "code",
   "execution_count": null,
   "metadata": {},
   "outputs": [],
   "source": []
  },
  {
   "cell_type": "code",
   "execution_count": null,
   "metadata": {},
   "outputs": [],
   "source": []
  },
  {
   "cell_type": "code",
   "execution_count": null,
   "metadata": {},
   "outputs": [],
   "source": []
  }
 ],
 "metadata": {
  "kernelspec": {
   "display_name": "Python 3",
   "language": "python",
   "name": "python3"
  },
  "language_info": {
   "codemirror_mode": {
    "name": "ipython",
    "version": 3
   },
   "file_extension": ".py",
   "mimetype": "text/x-python",
   "name": "python",
   "nbconvert_exporter": "python",
   "pygments_lexer": "ipython3",
   "version": "3.8.3"
  }
 },
 "nbformat": 4,
 "nbformat_minor": 4
}
